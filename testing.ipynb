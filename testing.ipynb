{
 "cells": [
  {
   "cell_type": "code",
   "execution_count": 56,
   "metadata": {},
   "outputs": [],
   "source": [
    "from dotenv import load_dotenv\n",
    "import requests\n",
    "import pandas as pd\n",
    "import json\n",
    "import os\n",
    "import time\n",
    "\n",
    "load_dotenv()\n",
    "auth_key = os.environ.get(\"auth_key\")\n",
    "\n"
   ]
  },
  {
   "cell_type": "code",
   "execution_count": 81,
   "metadata": {},
   "outputs": [],
   "source": [
    "def generation_by_source(year,month):\n",
    "    params={'auth_key':auth_key,'anio':year,'mes':month}\n",
    "    url='https://api.desarrolladores.energiaabierta.cl/generacion-bruta/v1/mensual/sic/tecnologia.json'\n",
    "    response = requests.get(url,params)\n",
    "    return response\n",
    "\n",
    "def response_to_df(response):\n",
    "    r=response.json()\n",
    "    df=pd.DataFrame(r['data'],columns=r['headers'])\n",
    "    return df\n",
    "\n",
    "def generation_by_source_range(first_date,last_date):\n",
    "    dr=pd.date_range(first_date,last_date,freq='MS')\n",
    "    master=pd.DataFrame()\n",
    "    for d in dr:\n",
    "        year=d.year\n",
    "        month=d.month\n",
    "        response=generation_by_source(year,month)\n",
    "        if response.status_code==200:\n",
    "            df=response_to_df(response)\n",
    "            df['year']=year\n",
    "            df['month']=month\n",
    "            master=pd.concat([master,df])\n",
    "        else:\n",
    "            print(f'No info for {month}/{year}')\n",
    "        time.sleep(1)\n",
    "    master['Generacion_MWh']=master['Generacion_MWh'].astype(float)\n",
    "    return master\n",
    "\n"
   ]
  },
  {
   "cell_type": "code",
   "execution_count": 84,
   "metadata": {},
   "outputs": [
    {
     "name": "stdout",
     "output_type": "stream",
     "text": [
      "No info for 7/2021\n"
     ]
    }
   ],
   "source": [
    "df=generation_by_source_range('2015-01-01','2021-07-01')"
   ]
  },
  {
   "cell_type": "code",
   "execution_count": 86,
   "metadata": {},
   "outputs": [],
   "source": [
    "g=df.groupby(['year','Tecnologia']).agg({'Generacion_MWh':sum})"
   ]
  },
  {
   "cell_type": "code",
   "execution_count": 93,
   "metadata": {},
   "outputs": [
    {
     "ename": "AttributeError",
     "evalue": "module 'seaborn' has no attribute 'set_theme'",
     "output_type": "error",
     "traceback": [
      "\u001b[0;31m---------------------------------------------------------------------------\u001b[0m",
      "\u001b[0;31mAttributeError\u001b[0m                            Traceback (most recent call last)",
      "\u001b[0;32m<ipython-input-93-05c65135662b>\u001b[0m in \u001b[0;36m<module>\u001b[0;34m\u001b[0m\n\u001b[1;32m      3\u001b[0m \u001b[0;34m\u001b[0m\u001b[0m\n\u001b[1;32m      4\u001b[0m \u001b[0;31m#set seaborn style\u001b[0m\u001b[0;34m\u001b[0m\u001b[0;34m\u001b[0m\u001b[0;34m\u001b[0m\u001b[0m\n\u001b[0;32m----> 5\u001b[0;31m \u001b[0msns\u001b[0m\u001b[0;34m.\u001b[0m\u001b[0mset_theme\u001b[0m\u001b[0;34m(\u001b[0m\u001b[0;34m)\u001b[0m\u001b[0;34m\u001b[0m\u001b[0;34m\u001b[0m\u001b[0m\n\u001b[0m",
      "\u001b[0;31mAttributeError\u001b[0m: module 'seaborn' has no attribute 'set_theme'"
     ]
    }
   ],
   "source": [
    "import matplotlib.pyplot as plt\n",
    "import seaborn as sns\n",
    "\n",
    "#set seaborn style\n",
    "sns.set_theme()"
   ]
  }
 ],
 "metadata": {
  "interpreter": {
   "hash": "09c7b3b8d47766ccd46f673f81f74ff2a83a98671812572d9416edebe3ee5864"
  },
  "kernelspec": {
   "display_name": "Python 3.7.6 ('base')",
   "language": "python",
   "name": "python3"
  },
  "language_info": {
   "codemirror_mode": {
    "name": "ipython",
    "version": 3
   },
   "file_extension": ".py",
   "mimetype": "text/x-python",
   "name": "python",
   "nbconvert_exporter": "python",
   "pygments_lexer": "ipython3",
   "version": "3.7.6"
  },
  "orig_nbformat": 4
 },
 "nbformat": 4,
 "nbformat_minor": 2
}
